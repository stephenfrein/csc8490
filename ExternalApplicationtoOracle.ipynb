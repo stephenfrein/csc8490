{
  "nbformat": 4,
  "nbformat_minor": 0,
  "metadata": {
    "colab": {
      "private_outputs": true,
      "provenance": [],
      "authorship_tag": "ABX9TyPUhyXtXpRXxwXS+JKZ/y4M",
      "include_colab_link": true
    },
    "kernelspec": {
      "name": "python3",
      "display_name": "Python 3"
    }
  },
  "cells": [
    {
      "cell_type": "markdown",
      "metadata": {
        "id": "view-in-github",
        "colab_type": "text"
      },
      "source": [
        "<a href=\"https://colab.research.google.com/github/stephenfrein/csc8490/blob/main/ExternalApplicationtoOracle.ipynb\" target=\"_parent\"><img src=\"https://colab.research.google.com/assets/colab-badge.svg\" alt=\"Open In Colab\"/></a>"
      ]
    },
    {
      "cell_type": "markdown",
      "source": [
        "# Stage 1: Basic Connection and Operations"
      ],
      "metadata": {
        "id": "HrWG4FAsnrPN"
      }
    },
    {
      "cell_type": "code",
      "source": [
        "# PIP is Python Improved Packaging\n",
        "# command below installs a Python code package that allows to connect to Oracle easily\n",
        "# the ! means \"run this from the command line rather than as a python command\"\n",
        "!pip install oracledb"
      ],
      "metadata": {
        "id": "DQI3OSValVSs"
      },
      "execution_count": null,
      "outputs": []
    },
    {
      "cell_type": "code",
      "source": [
        "# import allows us to load an available package into memory so we can use it\n",
        "import oracledb\n",
        "\n",
        "# set up our connection information\n",
        "db_user = \"sfrein01\"\n",
        "db_password = \"\"\n",
        "connect_string = \"vu2025.cypibltd7eim.us-east-2.rds.amazonaws.com/ORCL\"\n",
        "\n",
        "# make a connection - this creates a session with the database\n",
        "con = oracledb.connect(user=db_user, password=db_password, dsn=connect_string)\n",
        "\n",
        "# prove that we've made the connection\n",
        "print(\"Database version:\", con.version)"
      ],
      "metadata": {
        "id": "SPMr4gccmNN_"
      },
      "execution_count": null,
      "outputs": []
    },
    {
      "cell_type": "code",
      "metadata": {
        "id": "XP2t3L3lRd2x"
      },
      "source": [
        "# select some data from the database\n",
        "# a cursor in this case is similar to a PL/SQL cursor - a memory area used for processing SQL\n",
        "cursor = con.cursor()\n",
        "# for each iteration of the for loop, result gets populated with the next row from the query results\n",
        "for result in cursor.execute(\"select * from HR.Countries\"):\n",
        "    print(result)\n"
      ],
      "execution_count": null,
      "outputs": []
    },
    {
      "cell_type": "code",
      "metadata": {
        "id": "AVpRB-2-Jt5E"
      },
      "source": [
        "# calling a stored procedure\n",
        "# run the stored procedure setup in the slides first\n",
        "# set up a variable to accept the procedure output\n",
        "result = cursor.var(int)\n",
        "# calling the procedure\n",
        "cursor.callproc(\"DOUBLER\", [6, result])\n",
        "# show result\n",
        "print(result)\n",
        "# show just the value frrom result\n",
        "print(result.getvalue())"
      ],
      "execution_count": null,
      "outputs": []
    },
    {
      "cell_type": "code",
      "metadata": {
        "id": "37GeYXRFungk"
      },
      "source": [
        "# insert some records\n",
        "# assumes you've created the ExtAppsTest table using the slides\n",
        "cursor.execute(\"insert into ExtAppsTest (IdVal, TextCol, NumCol) values (1, 'Blue', 14)\")\n",
        "cursor.execute(\"insert into ExtAppsTest (IdVal, TextCol, NumCol) values (2, 'Red', 16)\")\n",
        "cursor.execute(\"insert into ExtAppsTest (IdVal, TextCol, NumCol) values (3, 'Blue', 19)\")\n",
        "cursor.execute(\"insert into ExtAppsTest (IdVal, TextCol, NumCol) values (4, 'Yellow', 20)\")\n",
        "cursor.execute(\"insert into ExtAppsTest (IdVal, TextCol, NumCol) values (5, 'Red', 22)\")\n",
        "\n"
      ],
      "execution_count": null,
      "outputs": []
    },
    {
      "cell_type": "code",
      "source": [
        "# see the data you just entered\n",
        "for result in cursor.execute(\"select * from ExtAppsTest\"):\n",
        "    print(result)"
      ],
      "metadata": {
        "id": "Y18SdPjvvadX"
      },
      "execution_count": null,
      "outputs": []
    },
    {
      "cell_type": "code",
      "metadata": {
        "id": "02brGoHVuDUE"
      },
      "source": [
        "# update one of the records\n",
        "cursor.execute(\"update ExtAppsTest set TextCol = 'Purple' where IdVal = 5\")"
      ],
      "execution_count": null,
      "outputs": []
    },
    {
      "cell_type": "code",
      "metadata": {
        "id": "k8jjpuCIOTHq"
      },
      "source": [
        "for result in cursor.execute(\"select * from ExtAppsTest\"):\n",
        "    print(result)"
      ],
      "execution_count": null,
      "outputs": []
    },
    {
      "cell_type": "code",
      "metadata": {
        "id": "Mx2z2BAiOgX7"
      },
      "source": [
        "# make changes public and permanent\n",
        "con.commit()"
      ],
      "execution_count": null,
      "outputs": []
    },
    {
      "cell_type": "code",
      "metadata": {
        "id": "Li_kEcZhME6w"
      },
      "source": [
        "# clears out records\n",
        "cursor.execute(\"delete from ExtAppsTest\")"
      ],
      "execution_count": null,
      "outputs": []
    },
    {
      "cell_type": "code",
      "metadata": {
        "id": "8avxXYpYTCE1"
      },
      "source": [
        "# close both the cursor and the connection to free up resources\n",
        "cur.close()\n",
        "con.close()"
      ],
      "execution_count": null,
      "outputs": []
    },
    {
      "cell_type": "markdown",
      "source": [
        "Notes:\n",
        "\n",
        "Connect and query\n",
        "SQL injection - variables\n",
        "Secrets\n",
        "Stored procedures\n",
        "Bind variables\n",
        "Connection pooling\n",
        "error handling"
      ],
      "metadata": {
        "id": "1MbqC8MTKvNA"
      }
    },
    {
      "cell_type": "code",
      "source": [
        "    from google.colab import output\n",
        "    output.serve_kernel_port_as_window(8084)"
      ],
      "metadata": {
        "id": "Yu1WCvmx3Idd"
      },
      "execution_count": null,
      "outputs": []
    },
    {
      "cell_type": "code",
      "source": [
        "    from flask import Flask\n",
        "    from flask import request\n",
        "    app = Flask(__name__)\n",
        "\n",
        "    @app.route(\"/\")\n",
        "    def hello():\n",
        "        return \"Hello, World!\"\n",
        "\n",
        "    @app.route(\"/query\")\n",
        "    def query():\n",
        "        id = request.args.get('id')\n",
        "\n",
        "        return \"requested id was \" + id\n",
        "\n",
        "    if __name__ == \"__main__\":\n",
        "        app.run(host='0.0.0.0', port=8084)"
      ],
      "metadata": {
        "id": "9Y5R2KaG3LY3"
      },
      "execution_count": null,
      "outputs": []
    },
    {
      "cell_type": "code",
      "metadata": {
        "id": "X7rwURHmLews"
      },
      "source": [
        "# insert some records\n",
        "# assumes you've created the ExtAppsTest table using the slides\n",
        "cursor.execute(\"insert into ExtAppsTest (IdVal, TextCol, NumCol) values (:1, :2, :3)\", (1, 'Blue', 14))\n",
        "cursor.execute(\"insert into ExtAppsTest (IdVal, TextCol, NumCol) values (:1, :2, :3)\", (2, 'Red', 16))\n",
        "cursor.execute(\"insert into ExtAppsTest (IdVal, TextCol, NumCol) values (:1, :2, :3)\", (3, 'Blue', 19))\n",
        "cursor.execute(\"insert into ExtAppsTest (IdVal, TextCol, NumCol) values (:1, :2, :3)\", (4, 'Yellow', 20))\n",
        "cursor.execute(\"insert into ExtAppsTest (IdVal, TextCol, NumCol) values (:1, :2, :3)\", (5, 'Red', 22))\n",
        "\n"
      ],
      "execution_count": null,
      "outputs": []
    },
    {
      "cell_type": "code",
      "metadata": {
        "id": "BRxISE_RwIZo"
      },
      "source": [
        "# update one of the records\n",
        "cursor.execute(\"update ExtAppsTest set TextCol = :1 where IdVal = :2\", ('Purple', 5))"
      ],
      "execution_count": null,
      "outputs": []
    },
    {
      "cell_type": "code",
      "metadata": {
        "id": "uRoK0j6rnKka"
      },
      "source": [
        "# can we pass in a column dynamically?\n",
        "cursor.execute(\"update ExtAppsTest set :1 = :2 where IdVal = :3\", (\"TextCol\",'Magenta', 5))"
      ],
      "execution_count": null,
      "outputs": []
    }
  ]
}