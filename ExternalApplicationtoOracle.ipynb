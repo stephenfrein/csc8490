{
  "nbformat": 4,
  "nbformat_minor": 0,
  "metadata": {
    "colab": {
      "private_outputs": true,
      "provenance": [],
      "authorship_tag": "ABX9TyM01T0dRBz6ns6ypHCu23HV",
      "include_colab_link": true
    },
    "kernelspec": {
      "name": "python3",
      "display_name": "Python 3"
    }
  },
  "cells": [
    {
      "cell_type": "markdown",
      "metadata": {
        "id": "view-in-github",
        "colab_type": "text"
      },
      "source": [
        "<a href=\"https://colab.research.google.com/github/stephenfrein/csc8490/blob/main/ExternalApplicationtoOracle.ipynb\" target=\"_parent\"><img src=\"https://colab.research.google.com/assets/colab-badge.svg\" alt=\"Open In Colab\"/></a>"
      ]
    },
    {
      "cell_type": "markdown",
      "source": [
        "# Stage 1: Basic Connection and Operations"
      ],
      "metadata": {
        "id": "HrWG4FAsnrPN"
      }
    },
    {
      "cell_type": "code",
      "source": [
        "# PIP is Python Improved Packaging\n",
        "# command below installs a Python code package that allows to connect to Oracle easily\n",
        "# the ! means \"run this from the command line rather than as a python command\"\n",
        "!pip install oracledb"
      ],
      "metadata": {
        "id": "DQI3OSValVSs"
      },
      "execution_count": null,
      "outputs": []
    },
    {
      "cell_type": "code",
      "source": [
        "# import allows us to load an available package into memory so we can use it\n",
        "import oracledb\n",
        "\n",
        "# set up our connection information - enter YOUR regular Oracle credentials here\n",
        "db_user = \"\"\n",
        "db_password = \"\"\n",
        "connect_string = \"vu2025.cypibltd7eim.us-east-2.rds.amazonaws.com/ORCL\"\n",
        "\n",
        "# make a connection - this creates a session with the database\n",
        "conn = oracledb.connect(user=db_user, password=db_password, dsn=connect_string)\n",
        "\n",
        "# prove that we've made the connection\n",
        "print(\"Database version:\", conn.version)"
      ],
      "metadata": {
        "id": "SPMr4gccmNN_"
      },
      "execution_count": null,
      "outputs": []
    },
    {
      "cell_type": "code",
      "metadata": {
        "id": "XP2t3L3lRd2x"
      },
      "source": [
        "# select some data from the database\n",
        "# a cursor in this case is similar to a PL/SQL cursor - a memory area used for processing SQL\n",
        "cursor = conn.cursor()\n",
        "# for each iteration of the for loop, result gets populated with the next row from the query results\n",
        "for result in cursor.execute(\"select * from HR.Countries\"):\n",
        "    print(result)\n"
      ],
      "execution_count": null,
      "outputs": []
    },
    {
      "cell_type": "code",
      "metadata": {
        "id": "AVpRB-2-Jt5E"
      },
      "source": [
        "# calling a stored procedure\n",
        "# run the stored procedure setup in the slides first\n",
        "# set up a variable to accept the procedure output\n",
        "result = cursor.var(int)\n",
        "# calling the procedure\n",
        "cursor.callproc(\"DOUBLER\", [6, result])\n",
        "# show result\n",
        "print(result)\n",
        "# show just the value frrom result\n",
        "print(result.getvalue())"
      ],
      "execution_count": null,
      "outputs": []
    },
    {
      "cell_type": "code",
      "metadata": {
        "id": "37GeYXRFungk"
      },
      "source": [
        "# insert some records\n",
        "# assumes you've created the ExtAppsTest table using the slides\n",
        "cursor.execute(\"insert into ExtAppsTest (IdVal, TextCol, NumCol) values (1, 'Blue', 14)\")\n",
        "cursor.execute(\"insert into ExtAppsTest (IdVal, TextCol, NumCol) values (2, 'Red', 16)\")\n",
        "cursor.execute(\"insert into ExtAppsTest (IdVal, TextCol, NumCol) values (3, 'Blue', 19)\")\n",
        "cursor.execute(\"insert into ExtAppsTest (IdVal, TextCol, NumCol) values (4, 'Yellow', 20)\")\n",
        "cursor.execute(\"insert into ExtAppsTest (IdVal, TextCol, NumCol) values (5, 'Red', 22)\")\n",
        "\n"
      ],
      "execution_count": null,
      "outputs": []
    },
    {
      "cell_type": "code",
      "source": [
        "# see the data you just entered\n",
        "for result in cursor.execute(\"select * from ExtAppsTest\"):\n",
        "    print(result)"
      ],
      "metadata": {
        "id": "Y18SdPjvvadX"
      },
      "execution_count": null,
      "outputs": []
    },
    {
      "cell_type": "code",
      "metadata": {
        "id": "02brGoHVuDUE"
      },
      "source": [
        "# update one of the records\n",
        "cursor.execute(\"update ExtAppsTest set TextCol = 'Purple' where IdVal = 5\")"
      ],
      "execution_count": null,
      "outputs": []
    },
    {
      "cell_type": "code",
      "metadata": {
        "id": "k8jjpuCIOTHq"
      },
      "source": [
        "for result in cursor.execute(\"select * from ExtAppsTest\"):\n",
        "    print(result)"
      ],
      "execution_count": null,
      "outputs": []
    },
    {
      "cell_type": "code",
      "metadata": {
        "id": "Mx2z2BAiOgX7"
      },
      "source": [
        "# make changes public and permanent\n",
        "conn.commit()"
      ],
      "execution_count": null,
      "outputs": []
    },
    {
      "cell_type": "code",
      "metadata": {
        "id": "Li_kEcZhME6w"
      },
      "source": [
        "# clears out records\n",
        "cursor.execute(\"delete from ExtAppsTest\")"
      ],
      "execution_count": null,
      "outputs": []
    },
    {
      "cell_type": "code",
      "metadata": {
        "id": "8avxXYpYTCE1"
      },
      "source": [
        "# close both the cursor and the connection to free up resources\n",
        "cursor.close()\n",
        "conn.close()"
      ],
      "execution_count": null,
      "outputs": []
    },
    {
      "cell_type": "markdown",
      "source": [
        "# Stage 2: Externalize Secrets and Environment-Specific Configuration"
      ],
      "metadata": {
        "id": "c9TmxBAQCpth"
      }
    },
    {
      "cell_type": "code",
      "source": [
        "# condensed example of code we looked at in Stage 1\n",
        "import oracledb\n",
        "# set up connection information using YOUR credentials\n",
        "db_user = \"\"\n",
        "db_password = \"\"\n",
        "connect_string = \"vu2025.cypibltd7eim.us-east-2.rds.amazonaws.com/ORCL\"\n",
        "# make a connection - this creates a session with the database\n",
        "conn = oracledb.connect(user=db_user, password=db_password, dsn=connect_string)\n",
        "# select some data from the database\n",
        "cursor = conn.cursor()\n",
        "for result in cursor.execute(\"select * from HR.Countries where region_id = 1\"):\n",
        "    print(result)\n",
        "cursor.close()\n",
        "conn.close()"
      ],
      "metadata": {
        "id": "ph4DwIhKGRC0"
      },
      "execution_count": null,
      "outputs": []
    },
    {
      "cell_type": "markdown",
      "source": [
        "This is bad because we have username and password details directly in our code. Anybody with access to the source code can now login to the database with the exposed credentials. We also might want to use a test database in some environments and save the production database for production use only. So, we need to separate our secrets and environment-specific config from the code."
      ],
      "metadata": {
        "id": "iIbilvBMG2p_"
      }
    },
    {
      "cell_type": "code",
      "source": [
        "# get rid of .env file if already exists\n",
        "!rm .env"
      ],
      "metadata": {
        "id": "BV_msz6aJ2NP"
      },
      "execution_count": null,
      "outputs": []
    },
    {
      "cell_type": "code",
      "source": [
        "# write username, password, and database server to .env file\n",
        "!echo \"username=\" >> .env\n",
        "!echo \"password=\" >> .env\n",
        "!echo \"connect_string=vu2025.cypibltd7eim.us-east-2.rds.amazonaws.com/ORCL\" >> .env"
      ],
      "metadata": {
        "id": "3HOAaSHUHv_R"
      },
      "execution_count": null,
      "outputs": []
    },
    {
      "cell_type": "code",
      "source": [
        "# check contents of file\n",
        "!cat .env"
      ],
      "metadata": {
        "id": "Q2s4I1r0ICCZ"
      },
      "execution_count": null,
      "outputs": []
    },
    {
      "cell_type": "code",
      "source": [
        "# install new package that allows us to get values from .env files like this\n",
        "!pip install python-dotenv"
      ],
      "metadata": {
        "id": "yvKdZVcqKh8Q"
      },
      "execution_count": null,
      "outputs": []
    },
    {
      "cell_type": "code",
      "source": [
        "from dotenv import load_dotenv\n",
        "import os\n",
        "# load those values from the .env file into environment variables\n",
        "load_dotenv()\n",
        "# condensed example from Stage 1 revised to externalize secrets and configuration details\n",
        "import oracledb\n",
        "# make a connection using the environment variables (our secrets are no longer in the code)\n",
        "conn = oracledb.connect(user=os.getenv(\"username\"), password=os.getenv(\"password\"), dsn=os.getenv(\"connect_string\"))\n",
        "# select some data from the database\n",
        "cursor = conn.cursor()\n",
        "for result in cursor.execute(\"select * from HR.Countries where region_id = 1\"):\n",
        "    print(result)\n",
        "cursor.close()\n",
        "conn.close()"
      ],
      "metadata": {
        "id": "mau7DALeK-xg"
      },
      "execution_count": null,
      "outputs": []
    },
    {
      "cell_type": "markdown",
      "source": [
        "# Stage 3: Parameterize Commands for Security and Performance (Prepared Statements)"
      ],
      "metadata": {
        "id": "sevEmEGBByzW"
      }
    },
    {
      "cell_type": "markdown",
      "source": [
        "Here is a simple web app that queries the database by the employee id passed in the URL. We can only use it to see employee last names. It certainly won't show us sensitive information like those juicy vault combinatiions!"
      ],
      "metadata": {
        "id": "gRnEl3bqUkHO"
      }
    },
    {
      "cell_type": "code",
      "source": [
        "    from google.colab import output\n",
        "    output.serve_kernel_port_as_window(8084)"
      ],
      "metadata": {
        "id": "Yu1WCvmx3Idd"
      },
      "execution_count": null,
      "outputs": []
    },
    {
      "cell_type": "code",
      "source": [
        "    from flask import Flask\n",
        "    from flask import jsonify\n",
        "    from flask import request\n",
        "    from dotenv import load_dotenv\n",
        "    import os\n",
        "    import oracledb\n",
        "    app = Flask(__name__)\n",
        "\n",
        "    # routes match url paths users enter and take action on them\n",
        "    @app.route(\"/\")\n",
        "    def hello():\n",
        "        return \"Hello, World!\"\n",
        "\n",
        "     # routes match url paths users enter and take action on them\n",
        "    @app.route(\"/query\")\n",
        "    def query():\n",
        "        # get the id parameter from the URL\n",
        "        id = request.args.get('id')\n",
        "        # load those values from the .env file into environment variables\n",
        "        load_dotenv()\n",
        "        # make a connection - this creates a session with the database\n",
        "        conn = oracledb.connect(user=os.getenv(\"username\"), password=os.getenv(\"password\"), dsn=os.getenv(\"connect_string\"))\n",
        "        # create cursor for SQL processing\n",
        "        cursor = conn.cursor()\n",
        "        # execute a query using the parameter passed in through the URL\n",
        "        print(\"SQL query: \" + \"select last_name from hr.employees where employee_id = \" + str(id))\n",
        "        cursor.execute(\"select last_name from hr.employees where employee_id = \" + str(id))\n",
        "        result = cursor.fetchone()\n",
        "        # close both the cursor and the connection to free up resources\n",
        "        cursor.close()\n",
        "        conn.close()\n",
        "        # show result on web page\n",
        "        return str(result[0])\n",
        "\n",
        "    if __name__ == \"__main__\":\n",
        "        app.run(host='0.0.0.0', port=8084)"
      ],
      "metadata": {
        "id": "9Y5R2KaG3LY3"
      },
      "execution_count": null,
      "outputs": []
    },
    {
      "cell_type": "markdown",
      "source": [
        "Now, try with URLs like /query?id=100 (remember that those employees have ids starting with 100)"
      ],
      "metadata": {
        "id": "ZziZGYpEO2mq"
      }
    },
    {
      "cell_type": "markdown",
      "source": [
        "Let's try some others...\n",
        "\n",
        "/query?id=abc\n",
        "\n",
        "/query?id=1 union select combo from vaultcombinations where vaultnumber = 1000"
      ],
      "metadata": {
        "id": "BP3iHS0MTkew"
      }
    },
    {
      "cell_type": "markdown",
      "source": [
        "Whoa! What happened? This app has a SQL injection vulnerability! Let's fix that by using a prepared statement, which is a parameterized version of our query."
      ],
      "metadata": {
        "id": "Za8DYQuHVYzk"
      }
    },
    {
      "cell_type": "code",
      "source": [
        "    from flask import Flask\n",
        "    from flask import jsonify\n",
        "    from flask import request\n",
        "    from dotenv import load_dotenv\n",
        "    import os\n",
        "    import oracledb\n",
        "    app = Flask(__name__)\n",
        "\n",
        "    @app.route(\"/\")\n",
        "    def hello():\n",
        "        return \"Hello, World!\"\n",
        "\n",
        "    @app.route(\"/query\")\n",
        "    def query():\n",
        "        # get the id parameter from the URL\n",
        "        id = request.args.get('id')\n",
        "        # load those values from the .env file into environment variables\n",
        "        load_dotenv()\n",
        "        # make a connection - this creates a session with the database\n",
        "        conn = oracledb.connect(user=os.getenv(\"username\"), password=os.getenv(\"password\"), dsn=os.getenv(\"connect_string\"))\n",
        "        # create cursor for SQL processing\n",
        "        cursor = conn.cursor()\n",
        "        # execute a query using the parameter passed in through the URL\n",
        "        # this time, we parameterize our query using a \"prepared statement\" template and a bind variable\n",
        "        # add a placeholder to the sql statement with a colon and an identifier, and then pass in the values to be used in those places\n",
        "        # last argument has to be in array form - this is why we have parentheses and a comma after, like this: (id,)\n",
        "        cursor.execute(\"select last_name from hr.employees where employee_id = :empid\", empid=id)\n",
        "        result = cursor.fetchone()\n",
        "        # close both the cursor and the connection to free up resources\n",
        "        cursor.close()\n",
        "        conn.close()\n",
        "        # show result on web page\n",
        "        return str(result[0])\n",
        "\n",
        "    if __name__ == \"__main__\":\n",
        "        app.run(host='0.0.0.0', port=8084)"
      ],
      "metadata": {
        "id": "XNlFmNG8V3a3"
      },
      "execution_count": null,
      "outputs": []
    },
    {
      "cell_type": "markdown",
      "source": [
        "Let's try those tests again...\n",
        "\n",
        "/query?id=100\n",
        "\n",
        "/query?id=abc\n",
        "\n",
        "/query?id=1 union select combo from vaultcombinations where vaultnumber = 1000"
      ],
      "metadata": {
        "id": "AQzEGvIYaI3h"
      }
    },
    {
      "cell_type": "markdown",
      "source": [
        "And now let's see the paramterized versions of all those basic operations we explored in Stage 1."
      ],
      "metadata": {
        "id": "inURNUpyal09"
      }
    },
    {
      "cell_type": "code",
      "source": [
        "from dotenv import load_dotenv\n",
        "import os\n",
        "# load those values from the .env file into environment variables\n",
        "load_dotenv()\n",
        "# condensed example from Stage 1 revised to externalize secrets and configuration details\n",
        "import oracledb\n",
        "# make a connection using the environment variables (our secrets are no longer in the code)\n",
        "conn = oracledb.connect(user=os.getenv(\"username\"), password=os.getenv(\"password\"), dsn=os.getenv(\"connect_string\"))\n",
        "# select some data from the database\n",
        "cursor = conn.cursor()\n",
        "target_region = 3\n",
        "for result in cursor.execute(\"select * from HR.Countries where region_id = :rgn\",rgn=target_region):\n",
        "    print(result)"
      ],
      "metadata": {
        "id": "275SruYmbZAA"
      },
      "execution_count": null,
      "outputs": []
    },
    {
      "cell_type": "code",
      "metadata": {
        "id": "X7rwURHmLews"
      },
      "source": [
        "# insert some records\n",
        "# assumes you've created the ExtAppsTest table using the slides\n",
        "# using a different style for this one where each new row is represented as an array of values\n",
        "cursor.execute(\"insert into ExtAppsTest (IdVal, TextCol, NumCol) values (:1, :2, :3)\", (1, 'Blue', 14))\n",
        "cursor.execute(\"insert into ExtAppsTest (IdVal, TextCol, NumCol) values (:1, :2, :3)\", (2, 'Red', 16))\n",
        "cursor.execute(\"insert into ExtAppsTest (IdVal, TextCol, NumCol) values (:1, :2, :3)\", (3, 'Blue', 19))\n",
        "cursor.execute(\"insert into ExtAppsTest (IdVal, TextCol, NumCol) values (:1, :2, :3)\", (4, 'Yellow', 20))\n",
        "cursor.execute(\"insert into ExtAppsTest (IdVal, TextCol, NumCol) values (:1, :2, :3)\", (5, 'Red', 22))\n",
        "\n"
      ],
      "execution_count": null,
      "outputs": []
    },
    {
      "cell_type": "code",
      "metadata": {
        "id": "twj1bQxVcZLT"
      },
      "source": [
        "for result in cursor.execute(\"select * from ExtAppsTest\"):\n",
        "    print(result)"
      ],
      "execution_count": null,
      "outputs": []
    },
    {
      "cell_type": "code",
      "metadata": {
        "id": "BRxISE_RwIZo"
      },
      "source": [
        "# update one of the records\n",
        "cursor.execute(\"update ExtAppsTest set TextCol = :color where IdVal = :id\", color=\"Purple\", id=5)"
      ],
      "execution_count": null,
      "outputs": []
    },
    {
      "cell_type": "code",
      "metadata": {
        "id": "jm9f1mYVcfJi"
      },
      "source": [
        "for result in cursor.execute(\"select * from ExtAppsTest\"):\n",
        "    print(result)"
      ],
      "execution_count": null,
      "outputs": []
    },
    {
      "cell_type": "code",
      "metadata": {
        "id": "uRoK0j6rnKka"
      },
      "source": [
        "# can we pass in a column dynamically? (nope - will fail)\n",
        "cursor.execute(\"update ExtAppsTest set :1 = :2 where IdVal = :3\", ('TextCol','Magenta', 5))"
      ],
      "execution_count": null,
      "outputs": []
    },
    {
      "cell_type": "code",
      "source": [
        "# close both the cursor and the connection to free up resources\n",
        "cursor.close()\n",
        "conn.close()"
      ],
      "metadata": {
        "id": "JwurRQ62c_ca"
      },
      "execution_count": null,
      "outputs": []
    },
    {
      "cell_type": "markdown",
      "source": [
        "Quick performance test - let's see how the use of bind variables compares to using literal values.\n",
        "\n",
        "We'll try literal values first.\n",
        "\n",
        "***Need somebody to tell a bad joke while it runs.***"
      ],
      "metadata": {
        "id": "cJ-Fnaj0dv0-"
      }
    },
    {
      "cell_type": "code",
      "source": [
        "from dotenv import load_dotenv\n",
        "import os\n",
        "import time\n",
        "\n",
        "# load those values from the .env file into environment variables\n",
        "load_dotenv()\n",
        "# condensed example from Stage 1 revised to externalize secrets and configuration details\n",
        "import oracledb\n",
        "# make a connection using the environment variables (our secrets are no longer in the code)\n",
        "conn = oracledb.connect(user=os.getenv(\"username\"), password=os.getenv(\"password\"), dsn=os.getenv(\"connect_string\"))\n",
        "cursor = conn.cursor()\n",
        "start = time.time()\n",
        "for object_id in range(1, 500):\n",
        "  cursor.execute(\"select * from all_objects where object_id = \" + str(object_id))\n",
        "end = time.time()\n",
        "print(str(end - start) + ' seconds elapsed')\n",
        "# close both the cursor and the connection to free up resources\n",
        "cursor.close()\n",
        "conn.close()"
      ],
      "metadata": {
        "id": "AYHXELEjdr0k"
      },
      "execution_count": null,
      "outputs": []
    },
    {
      "cell_type": "markdown",
      "source": [
        "Don't forget to take a look at the shared pool (V$SQL here). Steve will show it to you, and then clear it with:\n",
        "\n",
        "EXEC rdsadmin.rdsadmin_util.flush_shared_pool;\n",
        "\n",
        "Then, let's see how things are different when we use bind variables..."
      ],
      "metadata": {
        "id": "Vs53svKUgowV"
      }
    },
    {
      "cell_type": "code",
      "source": [
        "from dotenv import load_dotenv\n",
        "import os\n",
        "import time\n",
        "\n",
        "# load those values from the .env file into environment variables\n",
        "load_dotenv()\n",
        "# condensed example from Stage 1 revised to externalize secrets and configuration details\n",
        "import oracledb\n",
        "# make a connection using the environment variables (our secrets a, re no longer in the code)\n",
        "conn = oracledb.connect(user=os.getenv(\"username\"), password=os.getenv(\"password\"), dsn=os.getenv(\"connect_string\"))\n",
        "cursor = conn.cursor()\n",
        "start = time.time()\n",
        "for object_id in range(1, 500):\n",
        "  cursor.execute(\"select * from all_objects where object_id = :id\", id=object_id)\n",
        "end = time.time()\n",
        "print(str(end - start) + ' seconds elapsed')\n",
        "# close both the cursor and the connection to free up resources\n",
        "cursor.close()\n",
        "conn.close()"
      ],
      "metadata": {
        "id": "V0N23UJMhJMH"
      },
      "execution_count": null,
      "outputs": []
    },
    {
      "cell_type": "markdown",
      "source": [
        "Take a look at the shared pool again and see how it's different."
      ],
      "metadata": {
        "id": "FIKeoIh6iOu7"
      }
    },
    {
      "cell_type": "markdown",
      "source": [
        "# Stage 4: Connection Pooling for Scalability"
      ],
      "metadata": {
        "id": "ZsyCRer_iq_2"
      }
    },
    {
      "cell_type": "code",
      "source": [
        "# no connection pool - connections will NOT be reused\n",
        "\n",
        "from dotenv import load_dotenv\n",
        "import oracledb\n",
        "import threading\n",
        "import os\n",
        "\n",
        "# load those values from the .env file into environment variables\n",
        "load_dotenv()\n",
        "\n",
        "def Query():\n",
        "    conn = oracledb.connect(user=os.getenv(\"username\"), password=os.getenv(\"password\"), dsn=os.getenv(\"connect_string\"))\n",
        "    cursor = conn.cursor()\n",
        "    for i in range(4):\n",
        "        cursor.execute(\"select sys_context('userenv','sessionid') Session_ID from dual\")\n",
        "        session = cursor.fetchone()\n",
        "        print(\"Thread\", threading.current_thread().name, \"session = \", session[0])\n",
        "    # close both the cursor and the connection to free up resources\n",
        "    cursor.close()\n",
        "    conn.close()\n",
        "\n",
        "number_of_threads = 10\n",
        "thread_array = []\n",
        "\n",
        "for i in range(number_of_threads):\n",
        "    thread = threading.Thread(name='#' + str(i), target=Query)\n",
        "    thread_array.append(thread)\n",
        "    thread.start()\n",
        "\n",
        "for t in thread_array:\n",
        "    t.join()\n",
        "\n",
        "print(\"All done!\")\n"
      ],
      "metadata": {
        "id": "g9nrS2aFm8Qa"
      },
      "execution_count": null,
      "outputs": []
    },
    {
      "cell_type": "code",
      "source": [
        "# connection pooling - connections will be reused\n",
        "\n",
        "from dotenv import load_dotenv\n",
        "import oracledb\n",
        "import threading\n",
        "import os\n",
        "\n",
        "# load those values from the .env file into environment variables\n",
        "load_dotenv()\n",
        "\n",
        "pool = oracledb.create_pool(user=os.getenv(\"username\"), password=os.getenv(\"password\"), dsn=os.getenv(\"connect_string\"),\n",
        "                            min=2, max=10, increment=1, getmode=oracledb.POOL_GETMODE_WAIT)\n",
        "\n",
        "def Query():\n",
        "    conn = pool.acquire()\n",
        "    cursor = conn.cursor()\n",
        "    for i in range(4):\n",
        "        cursor.execute(\"select sys_context('userenv','sessionid') Session_ID from dual\")\n",
        "        session = cursor.fetchone()\n",
        "        print(\"Thread\", threading.current_thread().name, \"session = \", session[0])\n",
        "\n",
        "number_of_threads = 10\n",
        "thread_array = []\n",
        "\n",
        "for i in range(number_of_threads):\n",
        "    thread = threading.Thread(name='#' + str(i), target=Query)\n",
        "    thread_array.append(thread)\n",
        "    thread.start()\n",
        "\n",
        "for t in thread_array:\n",
        "    t.join()\n",
        "\n",
        "print(\"All done!\")\n"
      ],
      "metadata": {
        "id": "PXL_nxZPkc-T"
      },
      "execution_count": null,
      "outputs": []
    },
    {
      "cell_type": "markdown",
      "source": [
        "Connection pooling saves resources as it is expensive to keep opening and closing connections to the database server."
      ],
      "metadata": {
        "id": "aE-2P9Clr6wx"
      }
    }
  ]
}